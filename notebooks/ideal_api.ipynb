{
 "cells": [
  {
   "cell_type": "code",
   "execution_count": null,
   "id": "642494a1-241e-40a4-821a-c63a92a9b80a",
   "metadata": {},
   "outputs": [],
   "source": [
    "import torch\n",
    "\n",
    "torch.cuda.is_available()"
   ]
  },
  {
   "cell_type": "markdown",
   "id": "8c2b1d86-ef0e-4752-a7f6-e7db17b0bf9c",
   "metadata": {},
   "source": [
    "## Load monkey model"
   ]
  },
  {
   "cell_type": "code",
   "execution_count": null,
   "id": "4a9b5a90-d0a2-494d-bbdd-e2c49f6aae91",
   "metadata": {},
   "outputs": [],
   "source": [
    "# from laminr.neuron_models import monkey_v1"
   ]
  },
  {
   "cell_type": "code",
   "execution_count": null,
   "id": "3013ca14-aeed-4b56-a149-aabca34ccb9c",
   "metadata": {},
   "outputs": [],
   "source": [
    "# response_predicting_model = monkey_v1().to(\"cuda\")"
   ]
  },
  {
   "cell_type": "code",
   "execution_count": null,
   "id": "107a690b-e3fd-40a9-9853-5319efcc46a7",
   "metadata": {},
   "outputs": [],
   "source": [
    "# next(iter(response_predicting_model.parameters())).device"
   ]
  },
  {
   "cell_type": "markdown",
   "id": "89acebcf",
   "metadata": {},
   "source": [
    "## Load simulated neuron model"
   ]
  },
  {
   "cell_type": "code",
   "execution_count": null,
   "id": "62744b29",
   "metadata": {},
   "outputs": [],
   "source": [
    "from laminr.neuron_models.simulated import neuron3_generator as neuron_model_generator\n",
    "\n",
    "loc = [0.2, 0]\n",
    "img_res = [100, 100]\n",
    "neuron_model, rf_grid = neuron_model_generator(loc, img_res)\n",
    "xx, yy = rf_grid"
   ]
  },
  {
   "cell_type": "code",
   "execution_count": null,
   "id": "fea231f5-0938-4bdc-bd0f-229d0160118d",
   "metadata": {},
   "outputs": [],
   "source": [
    "from laminr.neuron_models.utils.simulated_model import ArbitraryMultiNeuronModel"
   ]
  },
  {
   "cell_type": "code",
   "execution_count": null,
   "id": "2bf26565-9d07-48b0-9bf1-dd47a4a2fbf2",
   "metadata": {},
   "outputs": [],
   "source": [
    "response_predicting_model = ArbitraryMultiNeuronModel([neuron_model]).to(\"cuda\")"
   ]
  },
  {
   "cell_type": "code",
   "execution_count": null,
   "id": "1b0a3f39-26f8-46cb-b2d2-f650de86674e",
   "metadata": {},
   "outputs": [],
   "source": [
    "response_predicting_model"
   ]
  },
  {
   "cell_type": "markdown",
   "id": "a598b537-3f9e-43f0-a226-a6895ee9f29b",
   "metadata": {
    "tags": []
   },
   "source": [
    "## Generate MEIs"
   ]
  },
  {
   "cell_type": "code",
   "execution_count": null,
   "id": "430692ca-578a-4f20-8e17-f5dadad1ee3a",
   "metadata": {},
   "outputs": [],
   "source": [
    "import numpy as np\n",
    "from laminr import get_mei_dict"
   ]
  },
  {
   "cell_type": "code",
   "execution_count": null,
   "id": "4d5ea7ac-2039-4f9a-a50a-7b0f065885a3",
   "metadata": {},
   "outputs": [],
   "source": [
    "# neuron_idxs = [0]\n",
    "# input_shape = [1, 93, 93]\n",
    "# required_pixel_min = -1.7876\n",
    "# required_pixel_max = 2.1919\n",
    "# std = 0.15\n",
    "# required_norm = std * np.sqrt(np.product(input_shape[-2:]))\n",
    "\n",
    "neuron_idxs = [0]\n",
    "input_shape = [1, 100, 100]\n",
    "required_pixel_min = -10\n",
    "required_pixel_max = 10\n",
    "required_norm = 1\n",
    "\n",
    "meis_dict = get_mei_dict(\n",
    "    response_predicting_model,\n",
    "    neuron_idxs,\n",
    "    input_shape,\n",
    "    required_pixel_min,\n",
    "    required_pixel_max,\n",
    "    required_norm=required_norm,\n",
    ")"
   ]
  },
  {
   "cell_type": "code",
   "execution_count": null,
   "id": "b593b556-e0d5-45d8-a845-19a55ace2a3e",
   "metadata": {},
   "outputs": [],
   "source": [
    "import matplotlib.pyplot as plt"
   ]
  },
  {
   "cell_type": "code",
   "execution_count": null,
   "id": "b79072f4-c9b8-438f-977b-b9145ebeef7a",
   "metadata": {},
   "outputs": [],
   "source": [
    "plt.imshow(meis_dict[0][\"mei\"][0])"
   ]
  },
  {
   "cell_type": "code",
   "execution_count": null,
   "id": "97007d62-8c7f-413e-9cb5-99a183169bee",
   "metadata": {},
   "outputs": [],
   "source": [
    "plt.imshow(meis_dict[0][\"mask\"][0])"
   ]
  },
  {
   "cell_type": "markdown",
   "id": "fffca290-00bc-4f6a-a4b2-6480cfa906af",
   "metadata": {},
   "source": [
    "## Initialize the pipeline"
   ]
  },
  {
   "cell_type": "code",
   "execution_count": null,
   "id": "817abaa1-d860-4991-84a9-a7d0d0db9cca",
   "metadata": {},
   "outputs": [],
   "source": [
    "from laminr import InvarianceManifold"
   ]
  },
  {
   "cell_type": "code",
   "execution_count": null,
   "id": "fabe2788-35b6-4f01-b793-5b3ba380c77a",
   "metadata": {},
   "outputs": [],
   "source": [
    "invariance_manifold = InvarianceManifold(\n",
    "    response_predicting_model,\n",
    "    meis_dict,\n",
    "    required_img_pixel_min=required_pixel_min,\n",
    "    required_img_pixel_max=required_pixel_max,\n",
    "    required_img_norm=required_norm,\n",
    ")"
   ]
  },
  {
   "cell_type": "code",
   "execution_count": null,
   "id": "54b032a0-0c18-4fb6-9d0b-7fb352dd642d",
   "metadata": {},
   "outputs": [],
   "source": [
    "template_neuron_idx = 0\n",
    "\n",
    "template = invariance_manifold.learn(\n",
    "    template_neuron_idx\n",
    ")"
   ]
  },
  {
   "cell_type": "code",
   "execution_count": null,
   "id": "cdf42b91-4c5e-479c-ae57-1cd1613b873b",
   "metadata": {},
   "outputs": [],
   "source": []
  },
  {
   "cell_type": "code",
   "execution_count": null,
   "id": "fb3e2696-2e7a-4181-90d7-2617e05721a6",
   "metadata": {},
   "outputs": [],
   "source": []
  },
  {
   "cell_type": "code",
   "execution_count": null,
   "id": "ff9ad09c-dd39-4673-8041-d40e95de25be",
   "metadata": {},
   "outputs": [],
   "source": []
  },
  {
   "cell_type": "code",
   "execution_count": null,
   "id": "c48873e8-62e0-4b38-956b-e3591580c1c7",
   "metadata": {},
   "outputs": [],
   "source": []
  },
  {
   "cell_type": "code",
   "execution_count": null,
   "id": "6e12b993-027b-46a1-9414-5288c9328952",
   "metadata": {},
   "outputs": [],
   "source": []
  },
  {
   "cell_type": "code",
   "execution_count": null,
   "id": "80f00ee2-fe02-489a-a772-f93ac9a13b60",
   "metadata": {},
   "outputs": [],
   "source": []
  },
  {
   "cell_type": "code",
   "execution_count": null,
   "id": "f2cce93e",
   "metadata": {},
   "outputs": [],
   "source": [
    "from laminr import InvarianceManifold"
   ]
  },
  {
   "cell_type": "code",
   "execution_count": null,
   "id": "9e5c8a86-0ba7-400a-ae98-b8ba0583e2da",
   "metadata": {},
   "outputs": [],
   "source": [
    "# NOTE that the pipeline config should include:\n",
    "# - the shared args between template learning and matching based on the args listed above\n",
    "# - args needed to learn the mei\n",
    "\n",
    "pipeline_config = {\n",
    "    ...\n",
    "}\n",
    "\n",
    "itlm = InvTempLearnMatch(model, **pipeline_config)"
   ]
  },
  {
   "cell_type": "markdown",
   "id": "cfbb7591-9862-413a-85ae-bff32fdf0305",
   "metadata": {},
   "source": [
    "## Template learning"
   ]
  },
  {
   "cell_type": "code",
   "execution_count": null,
   "id": "5f618cf7-e676-4f11-b8c6-b5987b472262",
   "metadata": {},
   "outputs": [],
   "source": [
    "template_neuron_idx = selected_neurons[0]\n",
    "\n",
    "# the invariance manifold learning config should include:\n",
    "# - the arguments that are not shared and are specific to learning the invariance manifold of the template neuron\n",
    "invariance_manifold_learning_config = {\n",
    "    ...\n",
    "}\n",
    "manifold1 = itlm.learn_invariance_manifold(template_neuron_idx, **invariance_manifold_learning_config)"
   ]
  },
  {
   "cell_type": "markdown",
   "id": "cf956b69-58c0-4205-825d-7bfa744e0d29",
   "metadata": {},
   "source": [
    "## Template matching"
   ]
  },
  {
   "cell_type": "code",
   "execution_count": null,
   "id": "88b4965f-bb0d-4df3-a73c-e2f894d49edf",
   "metadata": {},
   "outputs": [],
   "source": [
    "target_neuron_idx = selected_neurons[1]\n",
    "\n",
    "# the invariance manifold learning config should include:\n",
    "# - the arguments that are not shared and are specific to aligning the invariance manifold to the target neuron\n",
    "manifold_alignment_config = {\n",
    "    ...\n",
    "}\n",
    "alignment_score, transformed_manifold = pipeline.align_manifold(manifold1, target_neuron_idx, **manifold_alignment_config)"
   ]
  }
 ],
 "metadata": {
  "kernelspec": {
   "display_name": "Python 3 (ipykernel)",
   "language": "python",
   "name": "python3"
  },
  "language_info": {
   "codemirror_mode": {
    "name": "ipython",
    "version": 3
   },
   "file_extension": ".py",
   "mimetype": "text/x-python",
   "name": "python",
   "nbconvert_exporter": "python",
   "pygments_lexer": "ipython3",
   "version": "3.9.6"
  }
 },
 "nbformat": 4,
 "nbformat_minor": 5
}
