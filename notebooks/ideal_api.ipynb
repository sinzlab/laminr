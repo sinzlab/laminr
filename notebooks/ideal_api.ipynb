{
 "cells": [
  {
   "cell_type": "markdown",
   "id": "8c2b1d86-ef0e-4752-a7f6-e7db17b0bf9c",
   "metadata": {},
   "source": [
    "## Load monkey model"
   ]
  },
  {
   "cell_type": "code",
   "execution_count": null,
   "id": "3013ca14-aeed-4b56-a149-aabca34ccb9c",
   "metadata": {},
   "outputs": [],
   "source": [
    "# load a pretrained (or simulated) model of neurons\n",
    "# model is a pytorch nn.Module which takes images as input and outputs scalar neural responses for N neurons\n",
    "model = laminr.load_macaque_v1_model() \n",
    "\n",
    "# information about the input images that the model was trained on\n",
    "model_input_info = {\n",
    "    \"shape\": \n",
    "    \"min\": \n",
    "    \"max\": \n",
    "}"
   ]
  },
  {
   "cell_type": "markdown",
   "id": "89acebcf",
   "metadata": {},
   "source": [
    "## Load simulated neuron model"
   ]
  },
  {
   "cell_type": "code",
   "execution_count": null,
   "id": "62744b29",
   "metadata": {},
   "outputs": [],
   "source": []
  },
  {
   "cell_type": "markdown",
   "id": "fffca290-00bc-4f6a-a4b2-6480cfa906af",
   "metadata": {},
   "source": [
    "## Initialize the pipeline"
   ]
  },
  {
   "cell_type": "code",
   "execution_count": null,
   "id": "f2cce93e",
   "metadata": {},
   "outputs": [],
   "source": [
    "from laminr import InvTempLearnMatch"
   ]
  },
  {
   "cell_type": "code",
   "execution_count": null,
   "id": "8949f18a-f208-4561-9497-547ed4b01974",
   "metadata": {},
   "outputs": [],
   "source": [
    "##### train template args based on the current code\n",
    "\n",
    "# initialized internally\n",
    "template,\n",
    "tempalate_neuron_model,\n",
    "\n",
    "# mei_dict (passed when initializing the pipeline object using mei_dict)\n",
    "template_rf_mask,\n",
    "template_mei_act,\n",
    "\n",
    "# stimulus (these args are passed when initializing the pipeline object)\n",
    "pixel_min=-1.7876, \n",
    "pixel_max=2.1919, \n",
    "std=0.15,\n",
    "norm = 12,\n",
    "img_transform='StandardizeClip'\n",
    "\n",
    "# optimization\n",
    "requirements,\n",
    "with_periodic_invariances=True , \n",
    "temperature=.3, \n",
    "min_epochs=10, \n",
    "lr=1e-3, \n",
    "additional_epochs=0, \n",
    "grid_points_per_dim=20, \n",
    "reg_decr=0.8, \n",
    "steps_per_epoch=1, \n",
    "num_max_epochs=1000, \n",
    "reg_scale=2, \n",
    "patience=50,\n",
    "gaussian_blur_sigma=None,\n",
    "\n",
    "\n",
    "##### match template args based on the current code\n",
    "\n",
    "# passed as input when initializing pipeline object\n",
    "encoding_model\n",
    "\n",
    "# initialized internally\n",
    "template,\n",
    "grid_dataloader,\n",
    "\n",
    "# initialized using input arguments already passed when initializing pipeline object\n",
    "img_transforms,\n",
    "\n",
    "# mei dict (passed when initializing the pipeline object using mei_dict)\n",
    "template_rf_mask,\n",
    "others_mei_act,\n",
    "others_rf_mask=None, \n",
    "\n",
    "# passed to the method\n",
    "other_neurons_loc_in_list,\n",
    "other_neurons_loc_in_model, \n",
    "\n",
    "# optimization stuff\n",
    "rotate_angle_and_scale=False,\n",
    "find_best_translation=False, \n",
    "num_epochs=1000,\n",
    "lr=1e-3,\n",
    "patience=15, \n",
    "ignore_diff_smaller_than=1e-3"
   ]
  },
  {
   "cell_type": "code",
   "execution_count": null,
   "id": "9e5c8a86-0ba7-400a-ae98-b8ba0583e2da",
   "metadata": {},
   "outputs": [],
   "source": [
    "# NOTE that the pipeline config should include:\n",
    "# - the shared args between template learning and matching based on the args listed above\n",
    "# - args needed to learn the mei\n",
    "\n",
    "pipeline_config = {\n",
    "    ...\n",
    "}\n",
    "\n",
    "itlm = InvTempLearnMatch(model, **pipeline_config)"
   ]
  },
  {
   "cell_type": "markdown",
   "id": "cfbb7591-9862-413a-85ae-bff32fdf0305",
   "metadata": {},
   "source": [
    "## Template learning"
   ]
  },
  {
   "cell_type": "code",
   "execution_count": null,
   "id": "5f618cf7-e676-4f11-b8c6-b5987b472262",
   "metadata": {},
   "outputs": [],
   "source": [
    "template_neuron_idx = selected_neurons[0]\n",
    "\n",
    "# the invariance manifold learning config should include:\n",
    "# - the arguments that are not shared and are specific to learning the invariance manifold of the template neuron\n",
    "invariance_manifold_learning_config = {\n",
    "    ...\n",
    "}\n",
    "manifold1 = itlm.learn_invariance_manifold(template_neuron_idx, **invariance_manifold_learning_config)"
   ]
  },
  {
   "cell_type": "markdown",
   "id": "cf956b69-58c0-4205-825d-7bfa744e0d29",
   "metadata": {},
   "source": [
    "## Template matching"
   ]
  },
  {
   "cell_type": "code",
   "execution_count": null,
   "id": "88b4965f-bb0d-4df3-a73c-e2f894d49edf",
   "metadata": {},
   "outputs": [],
   "source": [
    "target_neuron_idx = selected_neurons[1]\n",
    "\n",
    "# the invariance manifold learning config should include:\n",
    "# - the arguments that are not shared and are specific to aligning the invariance manifold to the target neuron\n",
    "manifold_alignment_config = {\n",
    "    ...\n",
    "}\n",
    "alignment_score, transformed_manifold = pipeline.align_manifold(manifold1, target_neuron_idx, **manifold_alignment_config)"
   ]
  }
 ],
 "metadata": {
  "kernelspec": {
   "display_name": "Python 3 (ipykernel)",
   "language": "python",
   "name": "python3"
  },
  "language_info": {
   "codemirror_mode": {
    "name": "ipython",
    "version": 3
   },
   "file_extension": ".py",
   "mimetype": "text/x-python",
   "name": "python",
   "nbconvert_exporter": "python",
   "pygments_lexer": "ipython3",
   "version": "3.9.6"
  }
 },
 "nbformat": 4,
 "nbformat_minor": 5
}
