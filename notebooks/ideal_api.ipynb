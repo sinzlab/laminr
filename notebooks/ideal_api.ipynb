{
 "cells": [
  {
   "cell_type": "code",
   "execution_count": null,
   "id": "642494a1-241e-40a4-821a-c63a92a9b80a",
   "metadata": {},
   "outputs": [],
   "source": [
    "import torch\n",
    "\n",
    "torch.cuda.is_available()"
   ]
  },
  {
   "cell_type": "markdown",
   "id": "8c2b1d86-ef0e-4752-a7f6-e7db17b0bf9c",
   "metadata": {},
   "source": [
    "## Load monkey model"
   ]
  },
  {
   "cell_type": "code",
   "execution_count": null,
   "id": "4a9b5a90-d0a2-494d-bbdd-e2c49f6aae91",
   "metadata": {},
   "outputs": [],
   "source": [
    "# from laminr.neuron_models import monkey_v1"
   ]
  },
  {
   "cell_type": "code",
   "execution_count": null,
   "id": "3013ca14-aeed-4b56-a149-aabca34ccb9c",
   "metadata": {},
   "outputs": [],
   "source": [
    "# response_predicting_model = monkey_v1().to(\"cuda\")"
   ]
  },
  {
   "cell_type": "code",
   "execution_count": null,
   "id": "107a690b-e3fd-40a9-9853-5319efcc46a7",
   "metadata": {},
   "outputs": [],
   "source": [
    "# next(iter(response_predicting_model.parameters())).device"
   ]
  },
  {
   "cell_type": "markdown",
   "id": "89acebcf",
   "metadata": {},
   "source": [
    "## Load simulated neuron model"
   ]
  },
  {
   "cell_type": "code",
   "execution_count": null,
   "id": "62744b29",
   "metadata": {},
   "outputs": [],
   "source": [
    "from laminr.neuron_models.simulated import neuron3_generator as neuron_model_generator\n",
    "\n",
    "loc = [0.2, .2]\n",
    "img_res = [100, 100]\n",
    "neuron_model1, rf_grid = neuron_model_generator(loc, img_res)\n",
    "xx, yy = rf_grid\n",
    "\n",
    "loc = [-0.2, -.2]\n",
    "img_res = [100, 100]\n",
    "neuron_model2, rf_grid = neuron_model_generator(loc, img_res)\n",
    "xx, yy = rf_grid\n",
    "\n",
    "loc = [-0.2, .2]\n",
    "img_res = [100, 100]\n",
    "neuron_model3, rf_grid = neuron_model_generator(loc, img_res)\n",
    "xx, yy = rf_grid"
   ]
  },
  {
   "cell_type": "code",
   "execution_count": null,
   "id": "fea231f5-0938-4bdc-bd0f-229d0160118d",
   "metadata": {},
   "outputs": [],
   "source": [
    "from laminr.neuron_models.utils.simulated_model import ArbitraryMultiNeuronModel"
   ]
  },
  {
   "cell_type": "code",
   "execution_count": null,
   "id": "2bf26565-9d07-48b0-9bf1-dd47a4a2fbf2",
   "metadata": {},
   "outputs": [],
   "source": [
    "response_predicting_model = ArbitraryMultiNeuronModel([neuron_model1, neuron_model2, neuron_model3]).to(\"cuda\")"
   ]
  },
  {
   "cell_type": "code",
   "execution_count": null,
   "id": "1b0a3f39-26f8-46cb-b2d2-f650de86674e",
   "metadata": {},
   "outputs": [],
   "source": [
    "response_predicting_model"
   ]
  },
  {
   "cell_type": "markdown",
   "id": "a598b537-3f9e-43f0-a226-a6895ee9f29b",
   "metadata": {
    "tags": []
   },
   "source": [
    "## Generate MEIs"
   ]
  },
  {
   "cell_type": "code",
   "execution_count": null,
   "id": "430692ca-578a-4f20-8e17-f5dadad1ee3a",
   "metadata": {},
   "outputs": [],
   "source": [
    "import numpy as np\n",
    "from laminr import get_mei_dict"
   ]
  },
  {
   "cell_type": "code",
   "execution_count": null,
   "id": "4d5ea7ac-2039-4f9a-a50a-7b0f065885a3",
   "metadata": {},
   "outputs": [],
   "source": [
    "# neuron_idxs = [0]\n",
    "# input_shape = [1, 93, 93]\n",
    "# required_pixel_min = -1.7876\n",
    "# required_pixel_max = 2.1919\n",
    "# std = 0.15\n",
    "# required_norm = std * np.sqrt(np.product(input_shape[-2:]))\n",
    "\n",
    "neuron_idxs = [0, 1, 2]\n",
    "input_shape = [1, 100, 100]\n",
    "required_pixel_min = -10\n",
    "required_pixel_max = 10\n",
    "required_norm = 1\n",
    "\n",
    "meis_dict = get_mei_dict(\n",
    "    response_predicting_model,\n",
    "    neuron_idxs,\n",
    "    input_shape,\n",
    "    required_pixel_min,\n",
    "    required_pixel_max,\n",
    "    required_norm=required_norm,\n",
    ")"
   ]
  },
  {
   "cell_type": "code",
   "execution_count": null,
   "id": "b593b556-e0d5-45d8-a845-19a55ace2a3e",
   "metadata": {},
   "outputs": [],
   "source": [
    "import matplotlib.pyplot as plt"
   ]
  },
  {
   "cell_type": "code",
   "execution_count": null,
   "id": "b79072f4-c9b8-438f-977b-b9145ebeef7a",
   "metadata": {},
   "outputs": [],
   "source": [
    "fig, (ax1, ax2, ax3) = plt.subplots(1, 3)\n",
    "\n",
    "ax1.imshow(meis_dict[0][\"mei\"][0])\n",
    "ax2.imshow(meis_dict[1][\"mei\"][0])\n",
    "ax3.imshow(meis_dict[2][\"mei\"][0])"
   ]
  },
  {
   "cell_type": "code",
   "execution_count": null,
   "id": "97007d62-8c7f-413e-9cb5-99a183169bee",
   "metadata": {},
   "outputs": [],
   "source": [
    "fig, (ax1, ax2, ax3) = plt.subplots(1, 3)\n",
    "\n",
    "ax1.imshow(meis_dict[0][\"mask\"])\n",
    "ax2.imshow(meis_dict[1][\"mask\"])\n",
    "ax3.imshow(meis_dict[2][\"mask\"])"
   ]
  },
  {
   "cell_type": "markdown",
   "id": "fffca290-00bc-4f6a-a4b2-6480cfa906af",
   "metadata": {},
   "source": [
    "## Initialize the pipeline"
   ]
  },
  {
   "cell_type": "code",
   "execution_count": null,
   "id": "817abaa1-d860-4991-84a9-a7d0d0db9cca",
   "metadata": {},
   "outputs": [],
   "source": [
    "from laminr import InvarianceManifold"
   ]
  },
  {
   "cell_type": "code",
   "execution_count": null,
   "id": "fabe2788-35b6-4f01-b793-5b3ba380c77a",
   "metadata": {},
   "outputs": [],
   "source": [
    "invariance_manifold = InvarianceManifold(\n",
    "    response_predicting_model,\n",
    "    meis_dict,\n",
    "    required_img_pixel_min=required_pixel_min,\n",
    "    required_img_pixel_max=required_pixel_max,\n",
    "    required_img_norm=required_norm,\n",
    ")"
   ]
  },
  {
   "cell_type": "code",
   "execution_count": null,
   "id": "54b032a0-0c18-4fb6-9d0b-7fb352dd642d",
   "metadata": {},
   "outputs": [],
   "source": [
    "template_neuron_idx = 0\n",
    "\n",
    "template = invariance_manifold.learn(\n",
    "    template_neuron_idx, \n",
    "    steps_per_epoch=1,\n",
    ")"
   ]
  },
  {
   "cell_type": "code",
   "execution_count": null,
   "id": "cdf42b91-4c5e-479c-ae57-1cd1613b873b",
   "metadata": {},
   "outputs": [],
   "source": [
    "# template.show()"
   ]
  },
  {
   "cell_type": "code",
   "execution_count": null,
   "id": "fb3e2696-2e7a-4181-90d7-2617e05721a6",
   "metadata": {},
   "outputs": [],
   "source": [
    "target_neuron_idxs = [1, 2]\n",
    "template = invariance_manifold.match(\n",
    "    target_neuron_idxs\n",
    ")"
   ]
  },
  {
   "cell_type": "code",
   "execution_count": null,
   "id": "ff9ad09c-dd39-4673-8041-d40e95de25be",
   "metadata": {},
   "outputs": [],
   "source": [
    "images_from_learned_template = invariance_manifold.get_images_from_learned_template()\n",
    "images_from_learned_template.shape"
   ]
  },
  {
   "cell_type": "code",
   "execution_count": null,
   "id": "051fce10-bf4d-4e38-b334-a21915623025",
   "metadata": {},
   "outputs": [],
   "source": [
    "gif = invariance_manifold.save_learned_template_as_gif()\n",
    "gif.show()"
   ]
  },
  {
   "cell_type": "code",
   "execution_count": null,
   "id": "3f2c6561-9b80-4ce2-9b2d-89bf2467a740",
   "metadata": {},
   "outputs": [],
   "source": [
    "images_from_matched_template = invariance_manifold.get_images_from_matched_template(target_neuron_idxs[0])\n",
    "images_from_matched_template.shape"
   ]
  },
  {
   "cell_type": "code",
   "execution_count": null,
   "id": "af6510a6-344b-4098-9fe1-cd6dc2e78bb3",
   "metadata": {},
   "outputs": [],
   "source": [
    "gif = invariance_manifold.save_matched_template_as_gif(target_neuron_idxs[1])\n",
    "gif.show()"
   ]
  },
  {
   "cell_type": "code",
   "execution_count": null,
   "id": "9e5cb06a-6998-456f-ae73-2992a3336536",
   "metadata": {},
   "outputs": [],
   "source": []
  }
 ],
 "metadata": {
  "kernelspec": {
   "display_name": "Python 3 (ipykernel)",
   "language": "python",
   "name": "python3"
  },
  "language_info": {
   "codemirror_mode": {
    "name": "ipython",
    "version": 3
   },
   "file_extension": ".py",
   "mimetype": "text/x-python",
   "name": "python",
   "nbconvert_exporter": "python",
   "pygments_lexer": "ipython3",
   "version": "3.9.6"
  }
 },
 "nbformat": 4,
 "nbformat_minor": 5
}
