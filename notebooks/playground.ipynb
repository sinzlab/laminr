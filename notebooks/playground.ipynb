{
 "cells": [
  {
   "cell_type": "markdown",
   "id": "0613e0ed-c1d8-40ab-b1e4-2412669c90b4",
   "metadata": {},
   "source": [
    "## Create a neuron with invariance properties"
   ]
  },
  {
   "cell_type": "code",
   "execution_count": null,
   "id": "892c3433-9d39-4425-8fbb-adcc848bf275",
   "metadata": {},
   "outputs": [],
   "source": [
    "from laminr.neuron_models.simulated import neuron3_generator as neuron_model_generator"
   ]
  },
  {
   "cell_type": "code",
   "execution_count": null,
   "id": "b1eae7ca-1fc7-4294-89c1-48c1bb75c611",
   "metadata": {},
   "outputs": [],
   "source": [
    "loc = [0.2, 0]\n",
    "img_res = [100, 100]\n",
    "neuron_model, rf_grid = neuron_model_generator(loc, img_res)\n",
    "xx, yy = rf_grid"
   ]
  },
  {
   "cell_type": "markdown",
   "id": "6f88e860-4fe2-4677-8680-e9fbe0d16a36",
   "metadata": {},
   "source": [
    "### Visualize the invariance transformation"
   ]
  },
  {
   "cell_type": "code",
   "execution_count": null,
   "id": "9245167f-fe05-4061-a0a2-767d9aa7a5c3",
   "metadata": {},
   "outputs": [],
   "source": [
    "import numpy as np\n",
    "import matplotlib.pyplot as plt\n",
    "from lipstick import GifMaker\n",
    "\n",
    "from laminr.neuron_models.utils.simulated_model import plot_grid_points, plot_grid_border"
   ]
  },
  {
   "cell_type": "code",
   "execution_count": null,
   "id": "63db2c91-5ebc-4050-a81a-3d6fbc79ac47",
   "metadata": {},
   "outputs": [],
   "source": [
    "neuron_filters = neuron_model.filters.cpu().data.numpy()\n",
    "\n",
    "with GifMaker(\"simulated_neuron\") as g:\n",
    "    for neuron_filter in neuron_filters:\n",
    "        fig, ax = plt.subplots()\n",
    "        vmax = np.abs(neuron_filter).max()\n",
    "        vmin = -vmax\n",
    "        ax.imshow(neuron_filter, vmin=vmin, vmax=vmax, cmap=\"bwr\", extent=[-1, 1, -1, 1])\n",
    "        ax.set(xticks=[], yticks=[])\n",
    "        \n",
    "        plot_grid_border(xx, yy, ax=ax)\n",
    "        \n",
    "        g.add(fig)\n",
    "        \n",
    "g.show()"
   ]
  },
  {
   "cell_type": "code",
   "execution_count": null,
   "id": "d8ae84d6-7321-48aa-81e7-f8add752ec98",
   "metadata": {},
   "outputs": [],
   "source": [
    "from laminr.neuron_models import monkey_v1"
   ]
  },
  {
   "cell_type": "code",
   "execution_count": null,
   "id": "b557255a-b260-4d03-b3fa-7724eb465ca5",
   "metadata": {},
   "outputs": [],
   "source": [
    "model = monkey_v1(model_type=\"pointpool\")"
   ]
  },
  {
   "cell_type": "code",
   "execution_count": null,
   "id": "cae36b60-72f4-496e-a094-fd6524d5fb0c",
   "metadata": {},
   "outputs": [],
   "source": [
    "model"
   ]
  },
  {
   "cell_type": "code",
   "execution_count": null,
   "id": "27e0bdb1-a320-4dde-9d83-0bdd19c7fb25",
   "metadata": {},
   "outputs": [],
   "source": []
  }
 ],
 "metadata": {
  "kernelspec": {
   "display_name": "Python 3 (ipykernel)",
   "language": "python",
   "name": "python3"
  },
  "language_info": {
   "codemirror_mode": {
    "name": "ipython",
    "version": 3
   },
   "file_extension": ".py",
   "mimetype": "text/x-python",
   "name": "python",
   "nbconvert_exporter": "python",
   "pygments_lexer": "ipython3",
   "version": "3.9.6"
  }
 },
 "nbformat": 4,
 "nbformat_minor": 5
}
