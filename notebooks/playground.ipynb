{
 "cells": [
  {
   "cell_type": "markdown",
   "id": "0613e0ed-c1d8-40ab-b1e4-2412669c90b4",
   "metadata": {},
   "source": [
    "## Create a neuron with invariance properties"
   ]
  },
  {
   "cell_type": "code",
   "execution_count": null,
   "id": "892c3433-9d39-4425-8fbb-adcc848bf275",
   "metadata": {},
   "outputs": [],
   "source": [
    "from laminr.neuron_models.simulated import neuron3_generator as neuron_model_generator"
   ]
  },
  {
   "cell_type": "code",
   "execution_count": null,
   "id": "b1eae7ca-1fc7-4294-89c1-48c1bb75c611",
   "metadata": {},
   "outputs": [],
   "source": [
    "loc = [0.2, 0]\n",
    "img_res = [100, 100]\n",
    "neuron_model, rf_grid = neuron_model_generator(loc, img_res)\n",
    "xx, yy = rf_grid"
   ]
  },
  {
   "cell_type": "markdown",
   "id": "6f88e860-4fe2-4677-8680-e9fbe0d16a36",
   "metadata": {},
   "source": [
    "### Visualize the invariance transformation"
   ]
  },
  {
   "cell_type": "code",
   "execution_count": null,
   "id": "9245167f-fe05-4061-a0a2-767d9aa7a5c3",
   "metadata": {},
   "outputs": [],
   "source": [
    "import numpy as np\n",
    "import matplotlib.pyplot as plt\n",
    "from lipstick import GifMaker\n",
    "\n",
    "from laminr.neuron_models.utils.simulated_model import plot_grid_points, plot_grid_border"
   ]
  },
  {
   "cell_type": "code",
   "execution_count": null,
   "id": "63db2c91-5ebc-4050-a81a-3d6fbc79ac47",
   "metadata": {},
   "outputs": [],
   "source": [
    "neuron_filters = neuron_model.filters.cpu().data.numpy()\n",
    "\n",
    "with GifMaker(\"simulated_neuron\") as g:\n",
    "    for neuron_filter in neuron_filters:\n",
    "        fig, ax = plt.subplots()\n",
    "        vmax = np.abs(neuron_filter).max()\n",
    "        vmin = -vmax\n",
    "        ax.imshow(neuron_filter, vmin=vmin, vmax=vmax, cmap=\"bwr\", extent=[-1, 1, -1, 1])\n",
    "        ax.set(xticks=[], yticks=[])\n",
    "        \n",
    "        plot_grid_border(xx, yy, ax=ax)\n",
    "        \n",
    "        g.add(fig)\n",
    "        \n",
    "g.show()"
   ]
  },
  {
   "cell_type": "code",
   "execution_count": null,
   "id": "d8ae84d6-7321-48aa-81e7-f8add752ec98",
   "metadata": {},
   "outputs": [],
   "source": [
    "from laminr.neuron_models import monkey_v1"
   ]
  },
  {
   "cell_type": "code",
   "execution_count": null,
   "id": "b557255a-b260-4d03-b3fa-7724eb465ca5",
   "metadata": {},
   "outputs": [],
   "source": [
    "model = monkey_v1(model_type=\"pointpool\")"
   ]
  },
  {
   "cell_type": "code",
   "execution_count": null,
   "id": "cae36b60-72f4-496e-a094-fd6524d5fb0c",
   "metadata": {},
   "outputs": [],
   "source": [
    "model"
   ]
  },
  {
   "cell_type": "markdown",
   "id": "31c116ac-442f-49d7-8163-6317e2fdfa01",
   "metadata": {},
   "source": [
    "---"
   ]
  },
  {
   "cell_type": "code",
   "execution_count": null,
   "id": "f2aab232-53a3-4d0f-b939-505351e26b5d",
   "metadata": {},
   "outputs": [],
   "source": [
    "##### train template args based on the current code\n",
    "\n",
    "# initialized internally\n",
    "template,\n",
    "tempalate_neuron_model,\n",
    "\n",
    "# mei_dict (passed when initializing the pipeline object using mei_dict)\n",
    "template_rf_mask,\n",
    "template_mei_act,\n",
    "\n",
    "# stimulus (these args are passed when initializing the pipeline object)\n",
    "pixel_min=-1.7876, \n",
    "pixel_max=2.1919, \n",
    "std=0.15,\n",
    "norm = 12,\n",
    "img_transform='StandardizeClip'\n",
    "\n",
    "# optimization\n",
    "requirements,\n",
    "with_periodic_invariances=True , \n",
    "temperature=.3, \n",
    "min_epochs=10, \n",
    "lr=1e-3, \n",
    "additional_epochs=0, \n",
    "grid_points_per_dim=20, \n",
    "reg_decr=0.8, \n",
    "steps_per_epoch=1, \n",
    "num_max_epochs=1000, \n",
    "reg_scale=2, \n",
    "patience=50,\n",
    "gaussian_blur_sigma=None,\n",
    "\n",
    "\n",
    "##### match template args based on the current code\n",
    "\n",
    "# passed as input when initializing pipeline object\n",
    "encoding_model\n",
    "\n",
    "# initialized internally\n",
    "template,\n",
    "grid_dataloader,\n",
    "\n",
    "# initialized using input arguments already passed when initializing pipeline object\n",
    "img_transforms,\n",
    "\n",
    "# mei dict (passed when initializing the pipeline object using mei_dict)\n",
    "template_rf_mask,\n",
    "others_mei_act,\n",
    "others_rf_mask=None, \n",
    "\n",
    "# passed to the method\n",
    "other_neurons_loc_in_list,\n",
    "other_neurons_loc_in_model, \n",
    "\n",
    "# optimization stuff\n",
    "rotate_angle_and_scale=False,\n",
    "find_best_translation=False, \n",
    "num_epochs=1000,\n",
    "lr=1e-3,\n",
    "patience=15, \n",
    "ignore_diff_smaller_than=1e-3"
   ]
  },
  {
   "cell_type": "code",
   "execution_count": null,
   "id": "7f2f2256-d83b-4f60-b671-75bc07c061ae",
   "metadata": {},
   "outputs": [],
   "source": [
    "from laminr import InvTempLearnMatch"
   ]
  },
  {
   "cell_type": "code",
   "execution_count": null,
   "id": "7227da10-b9e4-4ee7-9b39-4bf7a865e657",
   "metadata": {},
   "outputs": [],
   "source": [
    "# NOTE that the pipeline config should include:\n",
    "# - the shared args between template learning and matching based on the args listed above\n",
    "# - args needed to learn the mei\n",
    "\n",
    "pipeline_config = {\n",
    "    ...\n",
    "}\n",
    "\n",
    "itlm = InvTempLearnMatch(model, **pipeline_config)"
   ]
  },
  {
   "cell_type": "markdown",
   "id": "32165f7b-aa8d-4f38-b21d-11a27eac19d8",
   "metadata": {},
   "source": [
    "## Template learning"
   ]
  },
  {
   "cell_type": "code",
   "execution_count": null,
   "id": "0091b2b7-8cd9-4746-8c06-5b2fc18527e7",
   "metadata": {},
   "outputs": [],
   "source": [
    "template_neuron_idx = selected_neurons[0]\n",
    "\n",
    "# the invariance manifold learning config should include:\n",
    "# - the arguments that are not shared and are specific to learning the invariance manifold of the template neuron\n",
    "invariance_manifold_learning_config = {\n",
    "    ...\n",
    "}\n",
    "manifold1 = itlm.learn_invariance_manifold(template_neuron_idx, **invariance_manifold_learning_config)"
   ]
  },
  {
   "cell_type": "markdown",
   "id": "fa1f8887-abc9-41a9-9367-b7b8946e5e1a",
   "metadata": {},
   "source": [
    "## Template matching"
   ]
  },
  {
   "cell_type": "code",
   "execution_count": null,
   "id": "ae0f0777-bb5a-42cc-a839-31f4bfe5e697",
   "metadata": {},
   "outputs": [],
   "source": [
    "target_neuron_idx = selected_neurons[1]\n",
    "\n",
    "# the invariance manifold learning config should include:\n",
    "# - the arguments that are not shared and are specific to aligning the invariance manifold to the target neuron\n",
    "manifold_alignment_config = {\n",
    "    ...\n",
    "}\n",
    "alignment_score, transformed_manifold = pipeline.align_manifold(manifold1, target_neuron_idx, **manifold_alignment_config)"
   ]
  },
  {
   "cell_type": "code",
   "execution_count": null,
   "id": "39dc5164-3c0d-4821-b753-a8ed0b1c3047",
   "metadata": {},
   "outputs": [],
   "source": []
  }
 ],
 "metadata": {
  "kernelspec": {
   "display_name": "Python 3 (ipykernel)",
   "language": "python",
   "name": "python3"
  },
  "language_info": {
   "codemirror_mode": {
    "name": "ipython",
    "version": 3
   },
   "file_extension": ".py",
   "mimetype": "text/x-python",
   "name": "python",
   "nbconvert_exporter": "python",
   "pygments_lexer": "ipython3",
   "version": "3.9.6"
  }
 },
 "nbformat": 4,
 "nbformat_minor": 5
}
