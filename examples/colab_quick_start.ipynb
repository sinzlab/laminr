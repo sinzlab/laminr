{
  "cells": [
    {
      "cell_type": "markdown",
      "metadata": {
        "id": "5mDni8Diu410"
      },
      "source": [
        "### Install LAMINR"
      ]
    },
    {
      "cell_type": "code",
      "execution_count": null,
      "metadata": {
        "id": "L-3GQ9eJkYu0"
      },
      "outputs": [],
      "source": [
        "%%capture\n",
        "!pip install \"laminr[colab]\""
      ]
    },
    {
      "cell_type": "markdown",
      "metadata": {
        "id": "uyrUqkOWu9ZP"
      },
      "source": [
        "### Import necessary modules and set the device"
      ]
    },
    {
      "cell_type": "code",
      "execution_count": null,
      "metadata": {
        "colab": {
          "base_uri": "https://localhost:8080/"
        },
        "id": "HgrBmFOO6ejI",
        "outputId": "abe1ddb8-2a42-4cf8-9292-c0a7246a783e"
      },
      "outputs": [],
      "source": [
        "import numpy as np\n",
        "import torch\n",
        "import matplotlib.pyplot as plt\n",
        "from laminr import neuron_models, get_mei_dict, InvarianceManifold\n",
        "\n",
        "device = \"cuda\" if torch.cuda.is_available() else \"cpu\"\n",
        "print(f\"You are using {device.upper()} as device.\")"
      ]
    },
    {
      "cell_type": "markdown",
      "metadata": {
        "id": "41aLQqT9vHxS"
      },
      "source": [
        "### Specify the input shape for both creating simulated neurons and optimized input"
      ]
    },
    {
      "cell_type": "code",
      "execution_count": null,
      "metadata": {
        "id": "r4YSIu5qeS9p"
      },
      "outputs": [],
      "source": [
        "input_shape = [1, 100, 100]  # (channels, height, width)"
      ]
    },
    {
      "cell_type": "markdown",
      "metadata": {
        "id": "yPadj7GdvJ6i"
      },
      "source": [
        "Load the (pretrained or simulated) neurons model"
      ]
    },
    {
      "cell_type": "code",
      "execution_count": null,
      "metadata": {
        "id": "E1WaskCpdVEc"
      },
      "outputs": [],
      "source": [
        "model = neuron_models.simulated(\"demo1\", img_res=input_shape[1:]).to(device)"
      ]
    },
    {
      "cell_type": "markdown",
      "metadata": {
        "id": "RDosbnOOvUVv"
      },
      "source": [
        "### Generate MEIs (Maximally Exciting Inputs)"
      ]
    },
    {
      "cell_type": "code",
      "execution_count": null,
      "metadata": {
        "colab": {
          "base_uri": "https://localhost:8080/"
        },
        "id": "ejyOdogETgdT",
        "outputId": "38b7f609-1ca2-4b2d-93e4-58e15d3c6ce1"
      },
      "outputs": [],
      "source": [
        "image_constraints = {\n",
        "    \"pixel_value_lower_bound\": -1.0,\n",
        "    \"pixel_value_upper_bound\": 1.0,\n",
        "    \"required_img_norm\": 1.0,\n",
        "}\n",
        "meis_dict = get_mei_dict(model, input_shape, **image_constraints)"
      ]
    },
    {
      "cell_type": "code",
      "execution_count": null,
      "metadata": {
        "colab": {
          "base_uri": "https://localhost:8080/",
          "height": 205
        },
        "id": "JQ9wiqgtdL-N",
        "outputId": "3b9f6db0-3d63-4adc-ad2d-5aec6b9ab087"
      },
      "outputs": [],
      "source": [
        "# plot the optimized MEIs\n",
        "fig, axes = plt.subplots(1, len(meis_dict))\n",
        "for ax, (neuron_idx, mei_dict) in zip(axes, meis_dict.items()):\n",
        "    mei = mei_dict[\"mei\"]\n",
        "    vmax = np.abs(mei).max()\n",
        "    vmin = -vmax\n",
        "    ax.imshow(mei[0], vmin=vmin, vmax=vmax, cmap=\"Greys_r\")\n",
        "    ax.set(xticks=[], yticks=[], title=f\"Neuron {neuron_idx}\")"
      ]
    },
    {
      "cell_type": "markdown",
      "metadata": {
        "id": "i1lHuy7cvaKR"
      },
      "source": [
        "### Initialize and run the invariance manifold pipeline"
      ]
    },
    {
      "cell_type": "code",
      "execution_count": null,
      "metadata": {
        "id": "HyogGPW5WmSn"
      },
      "outputs": [],
      "source": [
        "inv_manifold = InvarianceManifold(model, meis_dict, **image_constraints)"
      ]
    },
    {
      "cell_type": "code",
      "execution_count": null,
      "metadata": {
        "colab": {
          "base_uri": "https://localhost:8080/"
        },
        "id": "3GkexKoLWrkJ",
        "outputId": "d3863572-c2b6-4419-d6ec-1dabc2a2fb31"
      },
      "outputs": [],
      "source": [
        "# Learn invariance manifold for neuron 0 (template)\n",
        "template_idx = 0\n",
        "template_imgs, template_activations = inv_manifold.learn(template_idx, steps_per_epoch=1)"
      ]
    },
    {
      "cell_type": "code",
      "execution_count": null,
      "metadata": {
        "colab": {
          "base_uri": "https://localhost:8080/"
        },
        "id": "yzMOKo5yWs9H",
        "outputId": "7b92abbe-7202-46ad-eaa5-539bd1eaef6b"
      },
      "outputs": [],
      "source": [
        "# Align the template to neurons 1 and 2\n",
        "target_idxs = [1, 2]\n",
        "aligned_imgs, aligned_activations = inv_manifold.match(target_idxs)"
      ]
    },
    {
      "cell_type": "markdown",
      "metadata": {},
      "source": [
        "### Visualize the learned template"
      ]
    },
    {
      "cell_type": "code",
      "execution_count": null,
      "metadata": {
        "id": "TQAXTjQxXOWx"
      },
      "outputs": [],
      "source": [
        "gif = inv_manifold.save_learned_template_as_gif()"
      ]
    },
    {
      "cell_type": "code",
      "execution_count": null,
      "metadata": {
        "colab": {
          "base_uri": "https://localhost:8080/",
          "height": 406
        },
        "id": "lY7YQMpyXq0P",
        "outputId": "fa120c74-5129-44e7-b06c-5c752270b698"
      },
      "outputs": [],
      "source": [
        "gif.show()"
      ]
    },
    {
      "cell_type": "markdown",
      "metadata": {},
      "source": [
        "### Visualize the matched templates"
      ]
    },
    {
      "cell_type": "code",
      "execution_count": null,
      "metadata": {
        "colab": {
          "base_uri": "https://localhost:8080/",
          "height": 406
        },
        "id": "DyANzVYLXwAG",
        "outputId": "51b93ae2-c6fe-4115-d32d-713b6ef9bb34"
      },
      "outputs": [],
      "source": [
        "gif = inv_manifold.save_matched_template_as_gif(target_neuron_idx=1)\n",
        "gif.show()"
      ]
    },
    {
      "cell_type": "code",
      "execution_count": null,
      "metadata": {
        "colab": {
          "base_uri": "https://localhost:8080/",
          "height": 406
        },
        "id": "xdg-2cFIX72m",
        "outputId": "93508565-e9b5-44a5-e1bd-7cad1e151ffb"
      },
      "outputs": [],
      "source": [
        "gif = inv_manifold.save_matched_template_as_gif(target_neuron_idx=2)\n",
        "gif.show()"
      ]
    }
  ],
  "metadata": {
    "accelerator": "GPU",
    "colab": {
      "gpuType": "T4",
      "provenance": []
    },
    "kernelspec": {
      "display_name": "Python 3",
      "name": "python3"
    },
    "language_info": {
      "name": "python"
    }
  },
  "nbformat": 4,
  "nbformat_minor": 0
}
